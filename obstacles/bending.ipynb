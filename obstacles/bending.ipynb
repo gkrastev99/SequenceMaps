{
 "cells": [
  {
   "cell_type": "code",
   "execution_count": 1,
   "metadata": {},
   "outputs": [],
   "source": [
    "import numpy as np\n",
    "import matplotlib.pyplot as plt"
   ]
  },
  {
   "cell_type": "markdown",
   "metadata": {},
   "source": [
    "# Bending points\n",
    "Given:\n",
    "- edge (p1, p2)\n",
    "- an (intersecting) obstacle:\n",
    "  - a list containing a single point representing another location \n",
    "  - OR a list of points representing a polygonal obstacle\n",
    "\n",
    "Returns:\n",
    "- 4 points that bend around the given obstacle, connecting to the line"
   ]
  },
  {
   "cell_type": "code",
   "execution_count": 2,
   "metadata": {},
   "outputs": [],
   "source": [
    "# the radius of a location, maximum line width in the graph?\n",
    "r = 0.0\n",
    "# the buffer around obstacles\n",
    "BUFFER = 0.0\n",
    "# bending distance\n",
    "d_bend = 1.0"
   ]
  },
  {
   "cell_type": "code",
   "execution_count": 3,
   "metadata": {},
   "outputs": [],
   "source": [
    "def vecAngle(v1, v2):\n",
    "    return np.arccos(np.dot(v1, v2)/(np.linalg.norm(v1) * np.linalg.norm(v2)))\n",
    "\n",
    "def rMatrix(angle):\n",
    "    return np.array([[np.cos(angle), -np.sin(angle)],\n",
    "                     [np.sin(angle),  np.cos(angle)]])\n",
    "\n",
    "def ltr(edge):\n",
    "    edge = np.array(edge)\n",
    "    if edge[0][0] != edge[1][0]:\n",
    "        p1, s = [edge[0], False] if edge[0][0] < edge[1][0] else [edge[1], True]\n",
    "        p2, s = [edge[1], False] if edge[0][0] < edge[1][0] else [edge[0], True]\n",
    "    else:\n",
    "        p1, s = [edge[0], False] if edge[0][1] > edge[1][1] else [edge[1], True]\n",
    "        p2, s = [edge[1], False] if edge[0][1] > edge[1][1] else [edge[0], True]\n",
    "    return p1, p2, s\n",
    "\n",
    "#TODO: fix\n",
    "def dist(edge, obs):\n",
    "    edge = np.array(edge)\n",
    "    obs = np.array(obs)\n",
    "    #transformations\n",
    "    T, p2, _ = ltr(edge)\n",
    "    R = rMatrix(vecAngle([1,0], p2-T))\n",
    "\n",
    "    min = 9 ** 99\n",
    "\n",
    "    if len(obs) == 1:\n",
    "        obs = obs[0]\n",
    "        #distance to edge points\n",
    "        dp1 = np.linalg.norm(obs-edge[0]) - r\n",
    "        dp2 = np.linalg.norm(obs-edge[1]) - r\n",
    "        \n",
    "        # distance to the line is the y value in the rotated scenario\n",
    "        dline = np.matmul(R, obs)[1] - r\n",
    "\n",
    "        min = np.min([dp1, dp2, dline])\n",
    "    else:\n",
    "        for pt in obs:\n",
    "            dp1 = np.linalg.norm(pt-edge[0])\n",
    "            dp2 = np.linalg.norm(pt-edge[1])\n",
    "            \n",
    "            dline = np.matmul(R, pt)[1]\n",
    "\n",
    "            min = np.min([min, dp1, dp2, dline])\n",
    "    \n",
    "    return min\n"
   ]
  },
  {
   "cell_type": "code",
   "execution_count": 4,
   "metadata": {},
   "outputs": [],
   "source": [
    "# gets the bending points\n",
    "# midpoints based on the axis aligned bounding box:\n",
    "# only the corners with the smallest absolute value of y are taken\n",
    "def bendpoints_r(obs, p2, lw):\n",
    "    if len(obs) == 1:\n",
    "        obs = obs[0]\n",
    "        min_x = obs[0] - r - BUFFER\n",
    "        max_x = obs[0] + r + BUFFER\n",
    "        min_y = obs[1] - lw - r - BUFFER\n",
    "        max_y = obs[1] + lw + r + BUFFER\n",
    "    else: # obs.T[0] gets all x values, obs.T[1] the y values\n",
    "        min_x = np.min(obs.T[0]) - BUFFER\n",
    "        max_x = np.max(obs.T[0]) + BUFFER\n",
    "        min_y = np.min(obs.T[1]) - lw - BUFFER\n",
    "        max_y = np.max(obs.T[1]) + lw + BUFFER\n",
    "\n",
    "    #get the midpoints\n",
    "    midpoints = []\n",
    "    for x in [min_x, max_x]:\n",
    "        y = min_y if np.abs(min_y) <= np.abs(max_y) else max_y\n",
    "        midpoints.append([x,y])\n",
    "    midpoints = np.array(midpoints)\n",
    "\n",
    "    \n",
    "    #TODO: lock to edge start and end if they are 'too close'\n",
    "    start = [np.max([min_x - d_bend, 0]), 0]\n",
    "    end = [np.min([max_x + d_bend, p2[0]]), 0]\n",
    "\n",
    "    bendpoints = np.array([start, midpoints[0], midpoints[1], end])\n",
    "\n",
    "    return bendpoints"
   ]
  },
  {
   "cell_type": "code",
   "execution_count": 5,
   "metadata": {},
   "outputs": [],
   "source": [
    "def bendpoints(edge, obs, lw):\n",
    "    #to make sure they are easy to work with\n",
    "    edge = np.array(edge)\n",
    "    obs = np.array(obs)\n",
    "\n",
    "    #choosing which point is the origin in the new coordinate system\n",
    "    #leftmost in x or if equal x, the highest point\n",
    "    p1, p2, switched = ltr(edge)\n",
    "\n",
    "    '''TRANSLATION'''\n",
    "    translation = p1 #the translation vector\n",
    "    \n",
    "    #translate\n",
    "    # p1_t = p1 - translation #will be origin\n",
    "    p2_t = p2 - translation\n",
    "    obs_t = obs - translation\n",
    "\n",
    "    '''ROTATION'''\n",
    "    # standard vector angle formula: arccos(a dot b / (|a| * |b|))\n",
    "    angle = vecAngle([1, 0], p2_t)\n",
    "    \n",
    "    # 2d rotation matrix construction: ((cos -sin), (sin cos))\n",
    "    rotation = rMatrix(angle)\n",
    "\n",
    "    p2_tr = np.matmul(rotation, p2_t)\n",
    "    #rotate the obstacle into the new coordinate system\n",
    "    obs_tr = np.matmul(rotation, obs_t.T).T\n",
    "    \n",
    "\n",
    "    '''OBSTACLE BENDING MIDPOINTS'''\n",
    "    #get axis aligned bounding box in this coordinate system\n",
    "    bend_tr = bendpoints_r(obs_tr, p2, lw)\n",
    "\n",
    "    #rotate and translate them back into the old coordinate system\n",
    "    #transpose is inverse of a rotation matrix\n",
    "    bend = np.matmul(rotation.T, (bend_tr).T).T + translation\n",
    "\n",
    "    if switched:\n",
    "        bend = bend[::-1]\n",
    "    \n",
    "    return bend"
   ]
  },
  {
   "cell_type": "code",
   "execution_count": 6,
   "metadata": {},
   "outputs": [
    {
     "data": {
      "image/png": "[encoded data removed]",
      "text/plain": [
       "<Figure size 500x500 with 1 Axes>"
      ]
     },
     "metadata": {},
     "output_type": "display_data"
    }
   ],
   "source": [
    "p1 = np.array([1,3])\n",
    "p2 = np.array([6,1])\n",
    "edge = np.array([p1, p2])\n",
    "obstacle = np.array([[3,1], [5,3], [4,5], [3,4], [3,1]])\n",
    "# obstacle = np.array([[3, 2.5]])\n",
    "\n",
    "bend = bendpoints(edge, obstacle, 0.3)\n",
    "\n",
    "plt.figure(figsize=(5,5))\n",
    "plt.axis([-1, 8, -1, 8])\n",
    "\n",
    "plt.plot(edge.T[0], edge.T[1])\n",
    "plt.scatter(edge.T[0], edge.T[1])\n",
    "\n",
    "plt.plot(obstacle.T[0], obstacle.T[1])\n",
    "plt.scatter(obstacle.T[0], obstacle.T[1])\n",
    "\n",
    "# plt.plot(triangle.T[0], triangle.T[1])\n",
    "plt.scatter(bend.T[0], bend.T[1], c=['red', 'green', 'blue', 'yellow'])\n",
    "\n",
    "plt.show()\n"
   ]
  },
  {
   "cell_type": "markdown",
   "metadata": {},
   "source": [
    "# Making Edge Bends Matrix\n",
    "Given:\n",
    "- Sorted sequences by weight\n",
    "- dictionary of locations\n",
    "- list of obstacles\n",
    "\n",
    "Returns:\n",
    "- locations × locations matrix that define how the edge between a location pair looks"
   ]
  },
  {
   "cell_type": "markdown",
   "metadata": {},
   "source": [
    "```\n",
    "detection:\n",
    "    for each edge (not hyperedge?) sorted high to low by weight\n",
    "        if edge already checked: skip\n",
    "        for each obstacle\n",
    "            if obstacle outside of edge-aligned bounding box of the edge: skip\n",
    "            else if \n",
    "                if obstacle is another location\n",
    "                    if distance from location to edge (minus radius around location) is less than some threshold\n",
    "                        bend with the edge and obstacle in mind\n",
    "                if obstacle is some polygon\n",
    "                    if distance from closest polygon point to edge is less than some threshold\n",
    "                        bend with the edge and obstacle in mind\n",
    "\n",
    "bending:\n",
    "    find the bounding box aligned with the edge:\n",
    "        (perform translations and rotations)\n",
    "        bounding box is lowest and highest x and y of the obstacle\n",
    "        (for locations, the coordinates +&- radius)\n",
    "        the line goes through two corners of the bounding box: the one with smallest |y| in the rotated scenario```"
   ]
  },
  {
   "cell_type": "code",
   "execution_count": 7,
   "metadata": {},
   "outputs": [],
   "source": [
    "#INPUT\n",
    "sequences = [([\"S\", \"A\", \"D\"], 1000), ([\"S\", \"B\", \"D\"], 700), ([\"S\", \"B\", \"C\"], 500), ([\"S\", \"A\"], 200)]\n",
    "name2coord = {\"S\": [0,0], \"A\": [4,4], \"B\": [4,-.5], \"C\": [3.5, -4], \"D\": [6,1]}\n",
    "obstacles = [[[4, -2]], [[2,2], [3,1], [4,2], [2,2]]]\n",
    "for loc in list(name2coord.values()):\n",
    "    obstacles.append([loc])"
   ]
  },
  {
   "cell_type": "code",
   "execution_count": 8,
   "metadata": {},
   "outputs": [
    {
     "name": "stdout",
     "output_type": "stream",
     "text": [
      "[[None None None None None]\n",
      " [None None None None None]\n",
      " [None None None None None]\n",
      " [None None None None None]\n",
      " [None None None None None]]\n"
     ]
    }
   ],
   "source": [
    "name2idx = dict(zip(name2coord.keys(), list(range(len(name2coord.keys())))))\n",
    "\n",
    "bendmatrix = np.empty((len(name2coord.keys()), len(name2coord.keys())), dtype=list)\n",
    "print(bendmatrix)"
   ]
  },
  {
   "cell_type": "code",
   "execution_count": 15,
   "metadata": {},
   "outputs": [
    {
     "ename": "AttributeError",
     "evalue": "'NoneType' object has no attribute 'append'",
     "output_type": "error",
     "traceback": [
      "\u001b[1;31m---------------------------------------------------------------------------\u001b[0m",
      "\u001b[1;31mAttributeError\u001b[0m                            Traceback (most recent call last)",
      "Cell \u001b[1;32mIn [15], line 10\u001b[0m\n\u001b[0;32m      8\u001b[0m \u001b[39mfor\u001b[39;00m obs \u001b[39min\u001b[39;00m obstacles:\n\u001b[0;32m      9\u001b[0m     \u001b[39mif\u001b[39;00m dist(edge, obs) \u001b[39m<\u001b[39m lw \u001b[39m+\u001b[39m BUFFER:\n\u001b[1;32m---> 10\u001b[0m         bendmatrix [name2idx [seq[\u001b[39m0\u001b[39;49m][i]]] [name2idx [seq[\u001b[39m0\u001b[39;49m][i\u001b[39m+\u001b[39;49m\u001b[39m1\u001b[39;49m]]]\u001b[39m.\u001b[39;49mappend(bendpoints(edge, obs, lw))\n",
      "\u001b[1;31mAttributeError\u001b[0m: 'NoneType' object has no attribute 'append'"
     ]
    }
   ],
   "source": [
    "for seq in sequences:\n",
    "    for i in range(len(seq)-1):\n",
    "        #TODO: if there already exists a bendmatrix entry, skip\n",
    "        #seq[i] - seq[i+1]\n",
    "        edge = [name2coord[seq[0][i]], name2coord[seq[0][i+1]]]    \n",
    "        lw = seq[1]/1000 #SCALE HERE\n",
    "        \n",
    "        for obs in obstacles:\n",
    "            if dist(edge, obs) < lw + BUFFER:\n",
    "                bendmatrix [name2idx [seq[0][i]]] [name2idx [seq[0][i+1]]] JOIN bendpoints(edge, obs, lw)\n"
   ]
  }
 ],
 "metadata": {
  "kernelspec": {
   "display_name": "Python 3.9.7 64-bit",
   "language": "python",
   "name": "python3"
  },
  "language_info": {
   "codemirror_mode": {
    "name": "ipython",
    "version": 3
   },
   "file_extension": ".py",
   "mimetype": "text/x-python",
   "name": "python",
   "nbconvert_exporter": "python",
   "pygments_lexer": "ipython3",
   "version": "3.9.7"
  },
  "orig_nbformat": 4,
  "vscode": {
   "interpreter": {
    "hash": "81794d4967e6c3204c66dcd87b604927b115b27c00565d3d43f05ba2f3a2cb0d"
   }
  }
 },
 "nbformat": 4,
 "nbformat_minor": 2
}
