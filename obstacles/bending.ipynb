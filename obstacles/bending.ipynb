{
 "cells": [
  {
   "cell_type": "code",
   "execution_count": 1,
   "metadata": {},
   "outputs": [],
   "source": [
    "import numpy as np\n",
    "import matplotlib.pyplot as plt"
   ]
  },
  {
   "cell_type": "markdown",
   "metadata": {},
   "source": [
    "# Bending points\n",
    "Given:\n",
    "- edge (p1, p2)\n",
    "- an (intersecting) obstacle:\n",
    "  - a list containing a single point representing another location \n",
    "  - OR a list of points representing a polygonal obstacle\n",
    "\n",
    "Returns:\n",
    "- 4 points that bend around the given obstacle, connecting to the line"
   ]
  },
  {
   "cell_type": "code",
   "execution_count": 2,
   "metadata": {},
   "outputs": [],
   "source": [
    "# the radius of a location, maximum line width in the graph?\n",
    "r = 0.5\n",
    "# the buffer around obstacles\n",
    "BUFFER = 0.1\n",
    "# bending distance\n",
    "d_bend = 1"
   ]
  },
  {
   "cell_type": "code",
   "execution_count": 3,
   "metadata": {},
   "outputs": [],
   "source": [
    "def vecAngle(v1, v2):\n",
    "    return np.arccos(np.dot(v1, v2)/(np.linalg.norm(v1) * np.linalg.norm(v2)))\n",
    "\n",
    "def rMatrix(angle):\n",
    "    return np.array([[np.cos(angle), -np.sin(angle)],\n",
    "                     [np.sin(angle),  np.cos(angle)]])\n",
    "\n",
    "# def ltr(edge):\n",
    "#     edge = np.array(edge)\n",
    "#     if edge[0][0] != edge[1][0]:\n",
    "#         p1, s = [edge[0], False] if edge[0][0] < edge[1][0] else [edge[1], True]\n",
    "#         p2, s = [edge[1], False] if edge[0][0] < edge[1][0] else [edge[0], True]\n",
    "#     else:\n",
    "#         p1, s = [edge[0], False] if edge[0][1] > edge[1][1] else [edge[1], True]\n",
    "#         p2, s = [edge[1], False] if edge[0][1] > edge[1][1] else [edge[0], True]\n",
    "#     return p1, p2, s\n",
    "\n",
    "def dist(edge, obs):\n",
    "    # p1, p2, _ = ltr(edge)\n",
    "    p1, p2 = np.array(edge)\n",
    "    if len(obs) == 1:  \n",
    "        loc = obs[0]\n",
    "        dp1 = np.linalg.norm(p1-loc)\n",
    "        dp2 = np.linalg.norm(p2-loc)\n",
    "\n",
    "        T = p1\n",
    "\n",
    "        angle = vecAngle([1,0], p2-T)\n",
    "        if (p2-T)[1] > 0:\n",
    "            angle = -angle\n",
    "        R = rMatrix(angle)\n",
    "\n",
    "        p2_tr = np.matmul(R, p2-T)\n",
    "        loc_tr = np.matmul(R, loc-T)\n",
    "\n",
    "        dline = 9 ** 99\n",
    "\n",
    "        if loc_tr[0] > 0 and loc_tr[0] < p2_tr[0]:\n",
    "            dline = np.abs(loc_tr[1])\n",
    "            \n",
    "        return np.min([dp1, dp2, dline])\n",
    "    else:\n",
    "        min = 9 ** 99\n",
    "\n",
    "\n",
    "        for pt in obs:\n",
    "            min = np.min([min, dist(edge, [pt])])\n",
    "\n",
    "        SLICES = int(np.linalg.norm(p1-p2) / (1 + BUFFER)) + 1\n",
    "        for i in range(len(obs)-1):\n",
    "            dir = np.array(p2-p1)\n",
    "            for v in range(SLICES + 1):\n",
    "                min = np.min([min, dist([obs[i], obs[i+1]], [p1 + (dir * (v/SLICES))])])\n",
    "\n",
    "        return min\n"
   ]
  },
  {
   "cell_type": "code",
   "execution_count": 4,
   "metadata": {},
   "outputs": [
    {
     "data": {
      "image/png": "[encoded data removed]",
      "text/plain": [
       "<Figure size 500x500 with 1 Axes>"
      ]
     },
     "metadata": {},
     "output_type": "display_data"
    }
   ],
   "source": [
    "pts = np.random.rand(10000, 2) * 5\n",
    "\n",
    "edge = np.array([[1,2], [4,2]])\n",
    "# edge = np.array([[1,4], [4,1.5]])\n",
    "\n",
    "# d = 1.5\n",
    "# obs = np.array([[pt+[d,0], pt+[0,d], pt-[d,0], pt-[0,d]] for pt in pts])\n",
    "\n",
    "filtered_pts = np.array([pt for pt in pts if (dist(edge, [pt]) < 0.5)])\n",
    "# filtered_obs = np.array([o for o in obs if (dist(edge, o) < 0.5 + BUFFER)])\n",
    "\n",
    "plt.figure(figsize=(5,5))\n",
    "plt.axis([0, 5, 0, 5])\n",
    "\n",
    "plt.scatter(pts.T[0], pts.T[1])\n",
    "plt.scatter(filtered_pts.T[0], filtered_pts.T[1])\n",
    "# for o in obs:\n",
    "#     plt.plot(o.T[0], o.T[1], c='lightblue')\n",
    "# for fo in filtered_obs:\n",
    "#     plt.plot(fo.T[0], fo.T[1], c='orange')\n",
    "\n",
    "plt.plot(edge.T[0], edge.T[1], c='red')\n",
    "plt.show()"
   ]
  },
  {
   "cell_type": "code",
   "execution_count": 5,
   "metadata": {},
   "outputs": [],
   "source": [
    "# gets the bending points\n",
    "# midpoints based on the axis aligned bounding box:\n",
    "# only the corners with the smallest absolute value of y are taken\n",
    "def bendpoints_r(obs, p2, lw):\n",
    "    if len(obs) == 1:\n",
    "        obs = obs[0]\n",
    "        min_x = obs[0] - r - BUFFER\n",
    "        max_x = obs[0] + r + BUFFER\n",
    "        min_y = obs[1] - lw - r - BUFFER\n",
    "        max_y = obs[1] + lw + r + BUFFER\n",
    "    else: # obs.T[0] gets all x values, obs.T[1] the y values\n",
    "        min_x = np.min(obs.T[0]) - BUFFER\n",
    "        max_x = np.max(obs.T[0]) + BUFFER\n",
    "        min_y = np.min(obs.T[1]) - lw - BUFFER\n",
    "        max_y = np.max(obs.T[1]) + lw + BUFFER\n",
    "\n",
    "    #get the midpoints\n",
    "    midpoints = []\n",
    "    for x in [min_x, max_x]:\n",
    "        y = min_y if np.abs(min_y) <= np.abs(max_y) else max_y\n",
    "        midpoints.append([x,y])\n",
    "    midpoints = np.array(midpoints)\n",
    "\n",
    "    \n",
    "    #TODO: lock to edge start and end if they are 'too close'\n",
    "    start = [np.max([min_x - d_bend, 0]), 0]\n",
    "    end = [np.min([max_x + d_bend, p2[0]]), 0]\n",
    "\n",
    "    bendpoints = np.array([start, midpoints[0], midpoints[1], end])\n",
    "\n",
    "    return bendpoints"
   ]
  },
  {
   "cell_type": "code",
   "execution_count": 6,
   "metadata": {},
   "outputs": [],
   "source": [
    "def bendpoints(edge, obs, lw):\n",
    "    #to make sure they are easy to work with\n",
    "    edge = np.array(edge)\n",
    "    obs = np.array(obs)\n",
    "\n",
    "    #choosing which point is the origin in the new coordinate system\n",
    "    #leftmost in x or if equal x, the highest point\n",
    "    # p1, p2, switched = ltr(edge)\n",
    "    p1, p2 = edge\n",
    "\n",
    "    '''TRANSLATION'''\n",
    "    translation = p1 #the translation vector\n",
    "    \n",
    "    #translate\n",
    "    # p1_t = p1 - translation #will be origin\n",
    "    p2_t = p2 - translation\n",
    "    obs_t = obs - translation\n",
    "\n",
    "    '''ROTATION'''\n",
    "    # standard vector angle formula: arccos(a dot b / (|a| * |b|))\n",
    "    angle = vecAngle([1, 0], p2_t)\n",
    "    # if the other endpoint of the edge is above the x axis the rotation needs to be negative\n",
    "    if p2_t[1] > 0:\n",
    "        angle = -angle\n",
    "    \n",
    "    # 2d rotation matrix construction: ((cos -sin), (sin cos))\n",
    "    rotation = rMatrix(angle)\n",
    "\n",
    "    p2_tr = np.matmul(rotation, p2_t)\n",
    "    #rotate the obstacle into the new coordinate system\n",
    "    obs_tr = np.matmul(rotation, obs_t.T).T\n",
    "    \n",
    "\n",
    "    '''OBSTACLE BENDING MIDPOINTS'''\n",
    "    #get axis aligned bounding box in this coordinate system\n",
    "    bend_tr = bendpoints_r(obs_tr, p2_tr, lw)\n",
    "\n",
    "    #rotate and translate them back into the old coordinate system\n",
    "    #transpose is inverse of a rotation matrix\n",
    "    # bend = np.matmul(rotation.T, (bend_tr).T).T + translation\n",
    "\n",
    "    bend = bend_tr\n",
    "\n",
    "    # if switched:\n",
    "    #     bend = bend[::-1]\n",
    "    \n",
    "    return bend"
   ]
  },
  {
   "cell_type": "code",
   "execution_count": 7,
   "metadata": {},
   "outputs": [
    {
     "data": {
      "image/png": "[encoded data removed]",
      "text/plain": [
       "<Figure size 500x500 with 1 Axes>"
      ]
     },
     "metadata": {},
     "output_type": "display_data"
    }
   ],
   "source": [
    "p1 = np.array([1,1])\n",
    "p2 = np.array([6,5])\n",
    "edge = np.array([p1, p2])\n",
    "obstacle = np.array([[3,1], [5,3], [4,5], [3,4], [3,1]])\n",
    "# obstacle = np.array([[3, 2.5]])\n",
    "\n",
    "bend = bendpoints(edge, obstacle, 0.3)\n",
    "\n",
    "plt.figure(figsize=(5,5))\n",
    "plt.axis([-1, 8, -1, 8])\n",
    "\n",
    "plt.plot(edge.T[0], edge.T[1])\n",
    "plt.scatter(edge.T[0], edge.T[1])\n",
    "\n",
    "plt.plot(obstacle.T[0], obstacle.T[1])\n",
    "plt.scatter(obstacle.T[0], obstacle.T[1])\n",
    "\n",
    "# plt.plot(triangle.T[0], triangle.T[1])\n",
    "plt.scatter(bend.T[0], bend.T[1], c=['red', 'green', 'blue', 'black'])\n",
    "\n",
    "plt.show()\n"
   ]
  },
  {
   "cell_type": "markdown",
   "metadata": {},
   "source": [
    "# Making Edge Bends Matrix\n",
    "Given:\n",
    "- Sorted sequences by weight\n",
    "- dictionary of locations\n",
    "- list of obstacles\n",
    "\n",
    "Returns:\n",
    "- locations × locations matrix that define how the edge between a location pair looks"
   ]
  },
  {
   "cell_type": "markdown",
   "metadata": {},
   "source": [
    "```\n",
    "detection:\n",
    "    for each edge (not hyperedge?) sorted high to low by weight\n",
    "        if edge already checked: skip\n",
    "        for each obstacle\n",
    "            if obstacle outside of edge-aligned bounding box of the edge: skip\n",
    "            else if \n",
    "                if obstacle is another location\n",
    "                    if distance from location to edge (minus radius around location) is less than some threshold\n",
    "                        bend with the edge and obstacle in mind\n",
    "                if obstacle is some polygon\n",
    "                    if distance from closest polygon point to edge is less than some threshold\n",
    "                        bend with the edge and obstacle in mind\n",
    "\n",
    "bending:\n",
    "    find the bounding box aligned with the edge:\n",
    "        (perform translations and rotations)\n",
    "        bounding box is lowest and highest x and y of the obstacle\n",
    "        (for locations, the coordinates +&- radius)\n",
    "        the line goes through two corners of the bounding box: the one with smallest |y| in the rotated scenario```"
   ]
  },
  {
   "cell_type": "code",
   "execution_count": 8,
   "metadata": {},
   "outputs": [],
   "source": [
    "#INPUT\n",
    "sequences = [([\"S\", \"A\", \"D\"], 1000), ([\"S\", \"B\", \"D\"], 700), ([\"S\", \"B\", \"C\"], 500), ([\"S\", \"A\", \"C\"], 200)]\n",
    "name2coord = {\"S\": [0,0], \"A\": [4,4], \"B\": [4,-.5], \"C\": [3.5, -4], \"D\": [6,1]}\n",
    "obstacles = [[[4, -1.5]], [[3.5, -3]], [[2,2], [3,1], [4,2], [2,2]], [[1,1.5]]]\n",
    "# for loc in list(name2coord.values()):\n",
    "#     obstacles.append([loc])"
   ]
  },
  {
   "cell_type": "code",
   "execution_count": 9,
   "metadata": {},
   "outputs": [],
   "source": [
    "# the radius of a location, maximum line width in the graph?\n",
    "r = 0.3\n",
    "# the buffer around obstacles\n",
    "BUFFER = 0.1\n",
    "# bending distance\n",
    "d_bend = 0.5"
   ]
  },
  {
   "cell_type": "code",
   "execution_count": 10,
   "metadata": {},
   "outputs": [
    {
     "name": "stdout",
     "output_type": "stream",
     "text": [
      "[[0 0 0 0 0]\n",
      " [0 0 0 0 0]\n",
      " [0 0 0 0 0]\n",
      " [0 0 0 0 0]\n",
      " [0 0 0 0 0]]\n"
     ]
    }
   ],
   "source": [
    "name2idx = dict(zip(name2coord.keys(), list(range(len(name2coord.keys())))))\n",
    "\n",
    "bendmatrix = np.zeros((len(name2coord.keys()), len(name2coord.keys())), dtype=list)\n",
    "print(bendmatrix)"
   ]
  },
  {
   "cell_type": "code",
   "execution_count": 11,
   "metadata": {},
   "outputs": [],
   "source": [
    "for seq in sequences:\n",
    "    for i in range(len(seq[0])-1):\n",
    "        src = seq[0][i]\n",
    "        trg = seq[0][i+1]\n",
    "\n",
    "        #if there already exists a bendmatrix entry, skip\n",
    "        if type(bendmatrix[name2idx[src]][name2idx[trg]]) != int: continue\n",
    "        # bendmatrix[name2idx[src]][name2idx[trg]] = []\n",
    "        # bendmatrix[name2idx[trg]][name2idx[src]] = []\n",
    "\n",
    "        edge = [name2coord[src], name2coord[trg]]\n",
    "        lw = seq[1]/1000 #SCALE HERE\n",
    "        \n",
    "        other_loc = [[name2coord[loc]] for loc in list(name2coord.keys()) if loc != src and loc != trg]\n",
    "        avoid = [*obstacles, *other_loc]\n",
    "\n",
    "        st = []\n",
    "        # ts = []\n",
    "\n",
    "        for obs in avoid:\n",
    "            if dist(edge, obs) < lw + BUFFER:\n",
    "                bend = bendpoints(edge, obs, lw)\n",
    "                #gather all bends\n",
    "                st.extend( [bend] ) \n",
    "        \n",
    "        #sort the bends\n",
    "        st.sort(key = lambda x : x[0][0])\n",
    "        \n",
    "        # turn list of bends into list of points\n",
    "        acc = []\n",
    "        for bend in st:\n",
    "            for pt in bend:\n",
    "                acc.append(pt)\n",
    "        st = np.array(acc)\n",
    "\n",
    "        # make sure we dont have p4 and p1 of two bends overlapping\n",
    "        for i in range(3, len(st)-2, 4):\n",
    "            if st[i][0] > st[i+1][0]:\n",
    "                st[i] = st[i-1]\n",
    "                st[i+1] = st[i+2]\n",
    "\n",
    "        # T, p2, switched = ltr(edge)\n",
    "        T, p2 = np.array(edge)\n",
    "        angle = vecAngle([1,0], p2-T)\n",
    "        if (p2-T)[1] > 0:\n",
    "            angle = -angle\n",
    "        R = rMatrix(angle)\n",
    "\n",
    "        # print(st)\n",
    "\n",
    "        if list(st) != []:\n",
    "            line = np.matmul(R.T, st.T).T + T\n",
    "        else:\n",
    "            line = st\n",
    "\n",
    "        # if switched:\n",
    "        #     line = line[::-1]\n",
    "\n",
    "        bendmatrix[name2idx[src]][name2idx[trg]] = line\n",
    "        bendmatrix[name2idx[trg]][name2idx[src]] = line[::-1]"
   ]
  },
  {
   "cell_type": "code",
   "execution_count": 12,
   "metadata": {},
   "outputs": [
    {
     "data": {
      "text/plain": [
       "array([[0, array([[0.6136039 , 0.6136039 ],\n",
       "                  [1.70710678, 0.22720779],\n",
       "                  [2.27279221, 0.79289322],\n",
       "                  [2.27279221, 0.79289322],\n",
       "                  [1.15147186, 2.70710678],\n",
       "                  [1.15147186, 2.70710678],\n",
       "                  [2.29289322, 3.84852814],\n",
       "                  [3.42426407, 3.42426407]]), array([], dtype=float64),\n",
       "        0, 0],\n",
       "       [array([[3.42426407, 3.42426407],\n",
       "               [2.29289322, 3.84852814],\n",
       "               [1.15147186, 2.70710678],\n",
       "               [1.15147186, 2.70710678],\n",
       "               [2.27279221, 0.79289322],\n",
       "               [2.27279221, 0.79289322],\n",
       "               [1.70710678, 0.22720779],\n",
       "               [0.6136039 , 0.6136039 ]]), 0, 0,\n",
       "        array([[ 3.91291335,  2.60661365],\n",
       "               [ 4.3056536 ,  2.08109177],\n",
       "               [ 4.22703009,  0.8231155 ],\n",
       "               [ 4.22703009,  0.8231155 ],\n",
       "               [ 3.42611977, -0.063352  ],\n",
       "               [ 3.42611977, -0.063352  ],\n",
       "               [ 3.37621714, -0.86179406],\n",
       "               [ 3.6637039 , -1.38073759],\n",
       "               [ 3.61839727, -2.10564373],\n",
       "               [ 4.12378286, -2.63820594],\n",
       "               [ 4.07388023, -3.436648  ],\n",
       "               [ 3.50611635, -3.90213837]]), array([], dtype=float64)],\n",
       "       [array([], dtype=float64), 0, 0,\n",
       "        array([[ 3.98727922, -0.58904546],\n",
       "               [ 3.165614  , -0.97674098],\n",
       "               [ 3.05247691, -1.76870058],\n",
       "               [ 3.05247691, -1.76870058],\n",
       "               [ 4.44752309, -2.73129942],\n",
       "               [ 4.44752309, -2.73129942],\n",
       "               [ 4.334386  , -3.52325902],\n",
       "               [ 3.51272078, -3.91095454]]), array([], dtype=float64)],\n",
       "       [0, array([[ 3.50611635, -3.90213837],\n",
       "                  [ 4.07388023, -3.436648  ],\n",
       "                  [ 4.12378286, -2.63820594],\n",
       "                  [ 3.61839727, -2.10564373],\n",
       "                  [ 3.6637039 , -1.38073759],\n",
       "                  [ 3.37621714, -0.86179406],\n",
       "                  [ 3.42611977, -0.063352  ],\n",
       "                  [ 3.42611977, -0.063352  ],\n",
       "                  [ 4.22703009,  0.8231155 ],\n",
       "                  [ 4.22703009,  0.8231155 ],\n",
       "                  [ 4.3056536 ,  2.08109177],\n",
       "                  [ 3.91291335,  2.60661365]]),\n",
       "        array([[ 3.51272078, -3.91095454],\n",
       "               [ 4.334386  , -3.52325902],\n",
       "               [ 4.44752309, -2.73129942],\n",
       "               [ 4.44752309, -2.73129942],\n",
       "               [ 3.05247691, -1.76870058],\n",
       "               [ 3.05247691, -1.76870058],\n",
       "               [ 3.165614  , -0.97674098],\n",
       "               [ 3.98727922, -0.58904546]]), 0, 0],\n",
       "       [0, array([], dtype=float64), array([], dtype=float64), 0, 0]],\n",
       "      dtype=object)"
      ]
     },
     "execution_count": 12,
     "metadata": {},
     "output_type": "execute_result"
    }
   ],
   "source": [
    "bendmatrix"
   ]
  },
  {
   "cell_type": "code",
   "execution_count": 13,
   "metadata": {},
   "outputs": [
    {
     "data": {
      "text/plain": [
       "array([[0.6136039 , 0.6136039 ],\n",
       "       [1.70710678, 0.22720779],\n",
       "       [2.27279221, 0.79289322],\n",
       "       [2.27279221, 0.79289322],\n",
       "       [1.15147186, 2.70710678],\n",
       "       [1.15147186, 2.70710678],\n",
       "       [2.29289322, 3.84852814],\n",
       "       [3.42426407, 3.42426407]])"
      ]
     },
     "execution_count": 13,
     "metadata": {},
     "output_type": "execute_result"
    }
   ],
   "source": [
    "bendmatrix[name2idx['S']][name2idx['A']]"
   ]
  },
  {
   "cell_type": "code",
   "execution_count": 14,
   "metadata": {},
   "outputs": [
    {
     "data": {
      "image/png": "[encoded data removed]",
      "text/plain": [
       "<Figure size 500x500 with 1 Axes>"
      ]
     },
     "metadata": {},
     "output_type": "display_data"
    }
   ],
   "source": [
    "plt.figure(figsize=(5,5))\n",
    "plt.axis([-2, 8, -5, 5])\n",
    "\n",
    "loc_xs = np.array(list(name2coord.values())).T[0]\n",
    "loc_ys = np.array(list(name2coord.values())).T[1]\n",
    "\n",
    "for obs in obstacles:\n",
    "    plt.scatter(np.array(obs).T[0], np.array(obs).T[1])\n",
    "\n",
    "plt.scatter(loc_xs, loc_ys)\n",
    "\n",
    "for seq in sequences:\n",
    "    for i in range(len(seq[0])-1):\n",
    "        src = seq[0][i]\n",
    "        trg = seq[0][i+1]\n",
    "\n",
    "        bend = bendmatrix[name2idx[src]][name2idx[trg]]\n",
    "\n",
    "        line = np.array([name2coord[src], *bend, name2coord[trg]])\n",
    "\n",
    "        plt.plot(line.T[0], line.T[1], linewidth=seq[1]/100)\n",
    "\n",
    "        # plt.scatter(line.T[0], line.T[1], linewidth=seq[1]/100)\n",
    "\n",
    "plt.show()"
   ]
  },
  {
   "cell_type": "code",
   "execution_count": 15,
   "metadata": {},
   "outputs": [
    {
     "data": {
      "text/plain": [
       "0.3535533905932736"
      ]
     },
     "execution_count": 15,
     "metadata": {},
     "output_type": "execute_result"
    }
   ],
   "source": [
    "dist([name2coord['S'], name2coord['A']], [[1, 1.5]])"
   ]
  }
 ],
 "metadata": {
  "kernelspec": {
   "display_name": "Python 3.9.7 64-bit",
   "language": "python",
   "name": "python3"
  },
  "language_info": {
   "codemirror_mode": {
    "name": "ipython",
    "version": 3
   },
   "file_extension": ".py",
   "mimetype": "text/x-python",
   "name": "python",
   "nbconvert_exporter": "python",
   "pygments_lexer": "ipython3",
   "version": "3.9.7"
  },
  "orig_nbformat": 4,
  "vscode": {
   "interpreter": {
    "hash": "81794d4967e6c3204c66dcd87b604927b115b27c00565d3d43f05ba2f3a2cb0d"
   }
  }
 },
 "nbformat": 4,
 "nbformat_minor": 2
}
