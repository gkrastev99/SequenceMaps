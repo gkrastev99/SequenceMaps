{
 "cells": [
  {
   "cell_type": "code",
   "execution_count": 1,
   "metadata": {},
   "outputs": [],
   "source": [
    "import numpy as np\n",
    "import matplotlib.pyplot as plt"
   ]
  },
  {
   "cell_type": "markdown",
   "metadata": {},
   "source": [
    "# Bending points\n",
    "Given:\n",
    "- edge (p1, p2)\n",
    "- an (intersecting) obstacle:\n",
    "  - a list containing a single point representing another location \n",
    "  - OR a list of points representing a polygonal obstacle\n",
    "\n",
    "Returns:\n",
    "- 4 points that bend around the given obstacle, connecting to the line"
   ]
  },
  {
   "cell_type": "code",
   "execution_count": 23,
   "metadata": {},
   "outputs": [],
   "source": [
    "# the radius of a location, maximum line width in the graph?\n",
    "r = 0.0\n",
    "# the buffer around obstacles\n",
    "BUFFER = 0.0\n",
    "# bending distance\n",
    "d_bend = 1.0"
   ]
  },
  {
   "cell_type": "code",
   "execution_count": 24,
   "metadata": {},
   "outputs": [],
   "source": [
    "def vecAngle(v1, v2):\n",
    "    return np.arccos(np.dot(v1, v2)/(np.linalg.norm(v1) * np.linalg.norm(v2)))"
   ]
  },
  {
   "cell_type": "code",
   "execution_count": 25,
   "metadata": {},
   "outputs": [],
   "source": [
    "# gets the bending points\n",
    "# midpoints based on the axis aligned bounding box:\n",
    "# only the corners with the smallest absolute value of y are taken\n",
    "def bendpoints_r(obs, p2, lw):\n",
    "    if len(obs) == 1:\n",
    "        obs = obs[0]\n",
    "        min_x = obs[0] - r - BUFFER\n",
    "        max_x = obs[0] + r + BUFFER\n",
    "        min_y = obs[1] - lw - r - BUFFER\n",
    "        max_y = obs[1] + lw + r + BUFFER\n",
    "    else: # obs.T[0] gets all x values, obs.T[1] the y values\n",
    "        min_x = np.min(obs.T[0]) - BUFFER\n",
    "        max_x = np.max(obs.T[0]) + BUFFER\n",
    "        min_y = np.min(obs.T[1]) - lw - BUFFER\n",
    "        max_y = np.max(obs.T[1]) + lw + BUFFER\n",
    "\n",
    "    #get the midpoints\n",
    "    midpoints = []\n",
    "    for x in [min_x, max_x]:\n",
    "        y = min_y if np.abs(min_y) <= np.abs(max_y) else max_y\n",
    "        midpoints.append([x,y])\n",
    "    midpoints = np.array(midpoints)\n",
    "\n",
    "    \n",
    "    #TODO: lock to edge start and end if they are 'too close'\n",
    "    start = [np.max([min_x - d_bend, 0]), 0]\n",
    "    end = [np.min([max_x + d_bend, p2[0]]), 0]\n",
    "\n",
    "    bendpoints = np.array([start, midpoints[0], midpoints[1], end])\n",
    "\n",
    "    return bendpoints"
   ]
  },
  {
   "cell_type": "code",
   "execution_count": 26,
   "metadata": {},
   "outputs": [],
   "source": [
    "def bendpoints(edge, obs, lw):\n",
    "    #to make sure they are easy to work with\n",
    "    edge = np.array(edge)\n",
    "    obs = np.array(obs)\n",
    "\n",
    "    #choosing which point is the origin in the new coordinate system\n",
    "    #leftmost in x or if equal x, the highest point\n",
    "    if edge[0][0] != edge[1][0]:\n",
    "        p1 = edge[0] if edge[0][0] < edge[1][0] else edge[1]\n",
    "        p2 = edge[1] if edge[0][0] < edge[1][0] else edge[0]\n",
    "    else:\n",
    "        p1 = edge[0] if edge[0][1] > edge[1][1] else edge[1]\n",
    "        p2 = edge[1] if edge[0][1] > edge[1][1] else edge[0]\n",
    "\n",
    "\n",
    "    '''TRANSLATION'''\n",
    "    translation = p1 #the translation vector\n",
    "    \n",
    "    #translate\n",
    "    p1_t = p1 - translation #will be origin\n",
    "    p2_t = p2 - translation\n",
    "    obs_t = obs - translation\n",
    "\n",
    "    '''ROTATION'''\n",
    "    # standard vector angle formula: arccos(a dot b / (|a| * |b|))\n",
    "    angle = vecAngle([1, 0], p2_t)\n",
    "    \n",
    "    # 2d rotation matrix construction: ((cos -sin), (sin cos))\n",
    "    rotation = np.array([[np.cos(angle), -np.sin(angle)],\n",
    "                         [np.sin(angle),  np.cos(angle)]])\n",
    "\n",
    "    p2_tr = np.matmul(rotation, p2_t)\n",
    "    #rotate the obstacle into the new coordinate system\n",
    "    obs_tr = np.matmul(rotation, obs_t.T).T\n",
    "    \n",
    "    '''SCALING'''\n",
    "    # scaling the X only so that we end up with p2 at (1,0)\n",
    "    # obs_trs= obs_tr * [1/np.linalg.norm(p2), 1]\n",
    "\n",
    "    '''OBSTACLE BENDING MIDPOINTS'''\n",
    "    #get axis aligned bounding box in this coordinate system\n",
    "    bend_tr = bendpoints_r(obs_tr, p2, lw)\n",
    "\n",
    "    #rotate and translate them back into the old coordinate system\n",
    "    #transpose is inverse of a rotation matrix\n",
    "    bend = np.matmul(rotation.T, (bend_tr).T).T + translation\n",
    "    \n",
    "    return bend"
   ]
  },
  {
   "cell_type": "code",
   "execution_count": 30,
   "metadata": {},
   "outputs": [
    {
     "data": {
      "image/png": "[encoded data removed]",
      "text/plain": [
       "<Figure size 500x500 with 1 Axes>"
      ]
     },
     "metadata": {},
     "output_type": "display_data"
    }
   ],
   "source": [
    "p1 = np.array([1,3])\n",
    "p2 = np.array([6,1])\n",
    "edge = np.array([p1, p2])\n",
    "obstacle = np.array([[3,1], [5,3], [4,5], [3,4], [3,1]])\n",
    "# obstacle = np.array([[3, 2.5]])\n",
    "\n",
    "corners = bendpoints([p1, p2], obstacle, 0.3)\n",
    "\n",
    "plt.figure(figsize=(5,5))\n",
    "plt.axis([-1, 8, -1, 8])\n",
    "\n",
    "plt.plot(edge.T[0], edge.T[1])\n",
    "plt.scatter(edge.T[0], edge.T[1])\n",
    "\n",
    "plt.plot(obstacle.T[0], obstacle.T[1])\n",
    "plt.scatter(obstacle.T[0], obstacle.T[1])\n",
    "\n",
    "# plt.plot(triangle.T[0], triangle.T[1])\n",
    "plt.scatter(corners.T[0], corners.T[1])\n",
    "\n",
    "plt.show()\n"
   ]
  },
  {
   "cell_type": "markdown",
   "metadata": {},
   "source": [
    "# Making Edge Bends Matrix\n",
    "Given:\n",
    "- Sorted sequences by weight\n",
    "- dictionary of locations\n",
    "- list of obstacles\n",
    "\n",
    "Returns:\n",
    "- locations × locations matrix that define how the edge between a location pair looks"
   ]
  },
  {
   "cell_type": "markdown",
   "metadata": {},
   "source": [
    "```\n",
    "detection:\n",
    "    for each edge (not hyperedge?) sorted high to low by weight\n",
    "        if edge already checked: skip\n",
    "        for each obstacle\n",
    "            if obstacle outside of edge-aligned bounding box of the edge: skip\n",
    "            else if \n",
    "                if obstacle is another location\n",
    "                    if distance from location to edge (minus radius around location) is less than some threshold\n",
    "                        bend with the edge and obstacle in mind\n",
    "                if obstacle is some polygon\n",
    "                    if distance from closest polygon point to edge is less than some threshold\n",
    "                        bend with the edge and obstacle in mind\n",
    "\n",
    "bending:\n",
    "    find the bounding box aligned with the edge:\n",
    "        (perform translations and rotations)\n",
    "        bounding box is lowest and highest x and y of the obstacle\n",
    "        (for locations, the coordinates +&- radius)\n",
    "        the line goes through two corners of the bounding box: the one with smallest |y| in the rotated scenario```"
   ]
  },
  {
   "cell_type": "code",
   "execution_count": 28,
   "metadata": {},
   "outputs": [],
   "source": [
    "#INPUT\n",
    "sequences = [([\"S\", \"A\", \"D\"], 1000), ([\"S\", \"B\", \"D\"], 700), ([\"S\", \"B\", \"C\"], 500), ([\"S\", \"A\"], 200)]\n",
    "name2coord = {\"A\": [4,4], \"B\": [4,-.5], \"C\": [3.5, -4], \"D\": [6,1]}\n",
    "obs = [[[4, -2]], [[2,2], [3,1], [4,2], [2,2]]]\n",
    "for loc in list(name2coord.values()):\n",
    "    obs.append(loc)"
   ]
  },
  {
   "cell_type": "code",
   "execution_count": 29,
   "metadata": {},
   "outputs": [
    {
     "ename": "IndentationError",
     "evalue": "expected an indented block (1934868240.py, line 4)",
     "output_type": "error",
     "traceback": [
      "\u001b[1;36m  Cell \u001b[1;32mIn [29], line 4\u001b[1;36m\u001b[0m\n\u001b[1;33m    \u001b[0m\n\u001b[1;37m    ^\u001b[0m\n\u001b[1;31mIndentationError\u001b[0m\u001b[1;31m:\u001b[0m expected an indented block\n"
     ]
    }
   ],
   "source": [
    "for seq in sequences:\n",
    "    for i in range(len(seq)-1):\n",
    "        #seq[i] - seq[i+1]\n",
    "        "
   ]
  }
 ],
 "metadata": {
  "kernelspec": {
   "display_name": "Python 3.9.7 64-bit",
   "language": "python",
   "name": "python3"
  },
  "language_info": {
   "codemirror_mode": {
    "name": "ipython",
    "version": 3
   },
   "file_extension": ".py",
   "mimetype": "text/x-python",
   "name": "python",
   "nbconvert_exporter": "python",
   "pygments_lexer": "ipython3",
   "version": "3.9.7"
  },
  "orig_nbformat": 4,
  "vscode": {
   "interpreter": {
    "hash": "81794d4967e6c3204c66dcd87b604927b115b27c00565d3d43f05ba2f3a2cb0d"
   }
  }
 },
 "nbformat": 4,
 "nbformat_minor": 2
}
